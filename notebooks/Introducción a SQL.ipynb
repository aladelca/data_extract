{
 "cells": [
  {
   "cell_type": "markdown",
   "metadata": {},
   "source": [
    "![](https://user-images.githubusercontent.com/83436724/166116197-cbe1a8bc-e1df-4cac-ad5e-9f6cd9f0f43c.png)"
   ]
  },
  {
   "cell_type": "markdown",
   "metadata": {},
   "source": [
    "## Obtener datos haciendo uso de SQL\n",
    "\n",
    "#### Obtener datos desde bases de datos relacionales\n",
    "\n",
    "#### Autor: Carlos Adrián Alarcón [Socials](https://linktr.ee/aladelca)\n",
    "\n",
    "La mayor parte de los datos internos o transaccionales de una organización se encuentra en bases de datos relacionales. El lenguaje para consultar estas bases de datos es ``SQL`` (Structured Query Language). Este lenguaje es transversal a diversos gestores de bases de datos. A continuación, se presentan algunos ejemplos de gestores de bases de datos:\n",
    "\n",
    "* Microsoft SQL Server\n",
    "* Oracle PL-SQL\n",
    "* MySQL\n",
    "* SQLite\n",
    "\n",
    "A continuación, revisaremos los principales conceptos para consultar datos y crear objetos en bases de datos relacionales"
   ]
  },
  {
   "cell_type": "markdown",
   "metadata": {},
   "source": [
    "Para utilizar SQL en un notebook, vamos a utilizar `ipython-sql`. Lo vamos a importar a continuación."
   ]
  },
  {
   "cell_type": "code",
   "execution_count": 2,
   "metadata": {},
   "outputs": [
    {
     "name": "stdout",
     "output_type": "stream",
     "text": [
      "The sql extension is already loaded. To reload it, use:\n",
      "  %reload_ext sql\n"
     ]
    }
   ],
   "source": [
    "%load_ext sql"
   ]
  },
  {
   "cell_type": "markdown",
   "metadata": {},
   "source": [
    "Para el caso actual, se utilizará el caso Banco Tu Gente, que tiene las siguientes reglas de negocio:\n",
    "\n",
    "* Un cliente puede tener varios productos\n",
    "* Un producto solamente puede ser abierto en una sede (Banca Virtual también califica como sede)\n",
    "\n",
    "El modelo de datos se muestra a continuación\n",
    "\n",
    "![](https://user-images.githubusercontent.com/83436724/169954486-f3bca4d7-9a6b-43aa-8c0c-c8d72d0455f1.png)"
   ]
  },
  {
   "cell_type": "markdown",
   "metadata": {},
   "source": [
    "El lenguaje SQL tiene diversos tipos. Se tiene el DML (Data Manipulation Language), que sirve para hacer modificaciones y consultas a los datos. También existe el DDL (Data Definition Language), que está más enfocado en la creación de objetos dentro de la base de datos. Finalmente, el DCL (Data Control Language), que está enfocado en la gestión de seguridad y permisos\n",
    "\n",
    "![](https://user-images.githubusercontent.com/83436724/169954978-458ee02b-ab36-4d90-b29f-06587c2ba2dd.png)"
   ]
  },
  {
   "cell_type": "markdown",
   "metadata": {},
   "source": [
    "#### Creación de modelo de datos\n",
    "\n",
    "Vamos a crear la base de datos del banco **Tu Gente**"
   ]
  },
  {
   "cell_type": "code",
   "execution_count": 34,
   "metadata": {},
   "outputs": [],
   "source": [
    "%sql sqlite:///banco_tugente.db"
   ]
  },
  {
   "cell_type": "markdown",
   "metadata": {},
   "source": [
    "Ahora nos toca crear las tablas asociadas: ``Clientes``, ``Productos`` y ``Sede``\n",
    "\n",
    "Iniciaremos con la tabla ``Clientes``"
   ]
  },
  {
   "cell_type": "code",
   "execution_count": 35,
   "metadata": {},
   "outputs": [
    {
     "name": "stdout",
     "output_type": "stream",
     "text": [
      "   sqlite:///banco.db\n",
      " * sqlite:///banco_tugente.db\n",
      "(sqlite3.OperationalError) table Clientes already exists\n",
      "[SQL: CREATE TABLE Clientes (\n",
      "    idCliente INT PRIMARY KEY,\n",
      "    nombreCliente VARCHAR(50),\n",
      "    apellidoCliente VARCHAR(50),\n",
      "    correo VARCHAR(50),\n",
      "    telefono VARCHAR(50)\n",
      ")]\n",
      "(Background on this error at: https://sqlalche.me/e/14/e3q8)\n"
     ]
    }
   ],
   "source": [
    "%%sql\n",
    "CREATE TABLE Clientes\n",
    "(\n",
    "    idCliente INT PRIMARY KEY,\n",
    "    nombreCliente VARCHAR(50),\n",
    "    apellidoCliente VARCHAR(50),\n",
    "    correo VARCHAR(50),\n",
    "    telefono VARCHAR(50)\n",
    ")"
   ]
  },
  {
   "cell_type": "markdown",
   "metadata": {},
   "source": [
    "``Sede``"
   ]
  },
  {
   "cell_type": "code",
   "execution_count": 32,
   "metadata": {},
   "outputs": [
    {
     "name": "stdout",
     "output_type": "stream",
     "text": [
      " * sqlite:///banco.db\n",
      "   sqlite:///banco_tugente.db\n",
      "Done.\n"
     ]
    },
    {
     "data": {
      "text/plain": [
       "[]"
      ]
     },
     "execution_count": 32,
     "metadata": {},
     "output_type": "execute_result"
    }
   ],
   "source": [
    "%%sql\n",
    "\n",
    "CREATE TABLE Sede\n",
    "(\n",
    "    idSede INT PRIMARY KEY,\n",
    "    nombreSede VARCHAR(100),\n",
    "    pais VARCHAR(50),\n",
    "    departamento VARCHAR(50),\n",
    "    provincia VARCHAR(50),\n",
    "    distrito VARCHAR(100)\n",
    "\n",
    ")"
   ]
  },
  {
   "cell_type": "markdown",
   "metadata": {},
   "source": [
    "``Productos``"
   ]
  },
  {
   "cell_type": "code",
   "execution_count": 33,
   "metadata": {},
   "outputs": [
    {
     "name": "stdout",
     "output_type": "stream",
     "text": [
      " * sqlite:///banco.db\n",
      "   sqlite:///banco_tugente.db\n",
      "Done.\n"
     ]
    },
    {
     "data": {
      "text/plain": [
       "[]"
      ]
     },
     "execution_count": 33,
     "metadata": {},
     "output_type": "execute_result"
    }
   ],
   "source": [
    "%%sql\n",
    "\n",
    "CREATE TABLE Productos\n",
    "(\n",
    "    idProducto INT PRIMARY KEY,\n",
    "    idCliente INT,\n",
    "    idSede INT,\n",
    "    nombreProducto VARCHAR(100),\n",
    "    tipoProducto VARCHAR(50),\n",
    "    tasaInteres FLOAT, \n",
    "    montoActual FLOAT,\n",
    "    FOREIGN KEY (idCliente) REFERENCES Clientes(idCliente),\n",
    "    FOREIGN KEY (idSede) REFERENCES Sede(idSede)\n",
    "\n",
    ")"
   ]
  },
  {
   "cell_type": "markdown",
   "metadata": {},
   "source": [
    "Ahora, insertaremos datos a cada una de las tablas. Para insertar tablas, se usa la siguiente notación:\n",
    "```SQL\n",
    "INSERT INTO <Nombre Tabla> VALUES (<atributos>)\n",
    "```"
   ]
  },
  {
   "cell_type": "code",
   "execution_count": 16,
   "metadata": {},
   "outputs": [
    {
     "name": "stdout",
     "output_type": "stream",
     "text": [
      " * sqlite:///banco_tugente.db\n",
      "10 rows affected.\n"
     ]
    },
    {
     "data": {
      "text/plain": [
       "[]"
      ]
     },
     "execution_count": 16,
     "metadata": {},
     "output_type": "execute_result"
    }
   ],
   "source": [
    "\n",
    "%%sql\n",
    "INSERT INTO Clientes\n",
    "VALUES \n",
    "(1, 'Carlos Adrian','Alarcon Delgado','alarcon.adrianc@gmail.com', '934-678-2342'),\n",
    "(2, 'Jose Maria','Rodriguez Quevedo', 'jrodriguez@hotmail.com', '9824392-12'),\n",
    "(3, 'Maria','Quispe', 'jrodriguez@hotmail.com', '9824392-12'),\n",
    "(4, 'Eliana','Arevalo', NULL, NULL),\n",
    "(5, 'Patrick',NULL, 'pguevara@hotmail.com', NULL),\n",
    "(6, 'Maria Elena',NULL, 'mariaquevedo@tumail.com', '4242212'),\n",
    "(7, 'Marian','Millones', 'MILLONES@hotmail.com', 'AB46343'),\n",
    "(8, 'Mariana','Duarte', 'duartema@gmail.com', '4232536'),\n",
    "(9, 'Anamariana','Solis', 'asolis@yahoo.com', NULL),\n",
    "(10, 'Jorge','Cabezudo', '', '')"
   ]
  },
  {
   "cell_type": "markdown",
   "metadata": {},
   "source": [
    "A continuación, rellenaremos las siguientes tablas"
   ]
  },
  {
   "cell_type": "code",
   "execution_count": 18,
   "metadata": {},
   "outputs": [
    {
     "name": "stdout",
     "output_type": "stream",
     "text": [
      " * sqlite:///banco_tugente.db\n",
      "4 rows affected.\n"
     ]
    },
    {
     "data": {
      "text/plain": [
       "[]"
      ]
     },
     "execution_count": 18,
     "metadata": {},
     "output_type": "execute_result"
    }
   ],
   "source": [
    "%%sql\n",
    "\n",
    "INSERT INTO Sede\n",
    "VALUES\n",
    "(1,'Sede Central','PE','Lima','Lima','Lima'),\n",
    "(2,'Banca Virtual','PE',NULL,NULL,NULL),\n",
    "(3,'Norteamerica','MX',NULL,NULL,NULL),\n",
    "(4,'Internacional','CO',NULL,NULL,NULL)"
   ]
  },
  {
   "cell_type": "code",
   "execution_count": 21,
   "metadata": {},
   "outputs": [
    {
     "name": "stdout",
     "output_type": "stream",
     "text": [
      " * sqlite:///banco_tugente.db\n",
      "5 rows affected.\n"
     ]
    },
    {
     "data": {
      "text/plain": [
       "[]"
      ]
     },
     "execution_count": 21,
     "metadata": {},
     "output_type": "execute_result"
    }
   ],
   "source": [
    "%%sql\n",
    "\n",
    "INSERT INTO Productos\n",
    "VALUES\n",
    "(1,2,1,'Cuenta Millonaria','Ahorros',2.60,10000.23),\n",
    "(2,2,2,'Prestamo Fácil','Prestamo',45.3,50000),\n",
    "(3,7,3,'Cuenta Jubilacion','Ahorros',5.5,40004.53),\n",
    "(4,10,4,'Cuenta Millonaria','Ahorros',7.5,23252392.90),\n",
    "(5,9,2,'Cuenta Digital','Ahorros',15.6,7000023.43)"
   ]
  },
  {
   "cell_type": "markdown",
   "metadata": {},
   "source": [
    "#### Consultas básicas SQL\n",
    "\n",
    "La forma básica de una consulta SQL es:\n",
    "\n",
    "```SQL\n",
    "SELECT <atributos>\n",
    "FROM <tablas>\n",
    "WHERE <condiciones>\n",
    "```"
   ]
  },
  {
   "cell_type": "code",
   "execution_count": 36,
   "metadata": {},
   "outputs": [
    {
     "name": "stdout",
     "output_type": "stream",
     "text": [
      "   sqlite:///banco.db\n",
      " * sqlite:///banco_tugente.db\n",
      "Done.\n"
     ]
    },
    {
     "data": {
      "text/html": [
       "<table>\n",
       "    <tr>\n",
       "        <th>idProducto</th>\n",
       "        <th>idCliente</th>\n",
       "        <th>idSede</th>\n",
       "        <th>nombreProducto</th>\n",
       "        <th>tipoProducto</th>\n",
       "        <th>tasaInteres</th>\n",
       "        <th>montoActual</th>\n",
       "    </tr>\n",
       "    <tr>\n",
       "        <td>1</td>\n",
       "        <td>2</td>\n",
       "        <td>1</td>\n",
       "        <td>Cuenta Millonaria</td>\n",
       "        <td>Ahorros</td>\n",
       "        <td>2.6</td>\n",
       "        <td>10000.23</td>\n",
       "    </tr>\n",
       "    <tr>\n",
       "        <td>2</td>\n",
       "        <td>2</td>\n",
       "        <td>2</td>\n",
       "        <td>Prestamo Fácil</td>\n",
       "        <td>Prestamo</td>\n",
       "        <td>45.3</td>\n",
       "        <td>50000.0</td>\n",
       "    </tr>\n",
       "    <tr>\n",
       "        <td>3</td>\n",
       "        <td>7</td>\n",
       "        <td>3</td>\n",
       "        <td>Cuenta Jubilacion</td>\n",
       "        <td>Ahorros</td>\n",
       "        <td>5.5</td>\n",
       "        <td>40004.53</td>\n",
       "    </tr>\n",
       "    <tr>\n",
       "        <td>4</td>\n",
       "        <td>10</td>\n",
       "        <td>4</td>\n",
       "        <td>Cuenta Millonaria</td>\n",
       "        <td>Ahorros</td>\n",
       "        <td>7.5</td>\n",
       "        <td>23252392.9</td>\n",
       "    </tr>\n",
       "    <tr>\n",
       "        <td>5</td>\n",
       "        <td>9</td>\n",
       "        <td>2</td>\n",
       "        <td>Cuenta Digital</td>\n",
       "        <td>Ahorros</td>\n",
       "        <td>15.6</td>\n",
       "        <td>7000023.43</td>\n",
       "    </tr>\n",
       "</table>"
      ],
      "text/plain": [
       "[(1, 2, 1, 'Cuenta Millonaria', 'Ahorros', 2.6, 10000.23),\n",
       " (2, 2, 2, 'Prestamo Fácil', 'Prestamo', 45.3, 50000.0),\n",
       " (3, 7, 3, 'Cuenta Jubilacion', 'Ahorros', 5.5, 40004.53),\n",
       " (4, 10, 4, 'Cuenta Millonaria', 'Ahorros', 7.5, 23252392.9),\n",
       " (5, 9, 2, 'Cuenta Digital', 'Ahorros', 15.6, 7000023.43)]"
      ]
     },
     "execution_count": 36,
     "metadata": {},
     "output_type": "execute_result"
    }
   ],
   "source": [
    "%%sql\n",
    "\n",
    "SELECT\n",
    "*\n",
    "from\n",
    "Productos"
   ]
  },
  {
   "cell_type": "code",
   "execution_count": 25,
   "metadata": {},
   "outputs": [
    {
     "name": "stdout",
     "output_type": "stream",
     "text": [
      " * sqlite:///banco_tugente.db\n",
      "Done.\n"
     ]
    },
    {
     "data": {
      "text/html": [
       "<table>\n",
       "    <tr>\n",
       "        <th>idCliente</th>\n",
       "        <th>nombreCliente</th>\n",
       "        <th>apellidoCliente</th>\n",
       "        <th>correo</th>\n",
       "        <th>telefono</th>\n",
       "    </tr>\n",
       "    <tr>\n",
       "        <td>6</td>\n",
       "        <td>Maria Elena</td>\n",
       "        <td>None</td>\n",
       "        <td>mariaquevedo@tumail.com</td>\n",
       "        <td>4242212</td>\n",
       "    </tr>\n",
       "    <tr>\n",
       "        <td>7</td>\n",
       "        <td>Marian</td>\n",
       "        <td>Millones</td>\n",
       "        <td>MILLONES@hotmail.com</td>\n",
       "        <td>AB46343</td>\n",
       "    </tr>\n",
       "    <tr>\n",
       "        <td>8</td>\n",
       "        <td>Mariana</td>\n",
       "        <td>Duarte</td>\n",
       "        <td>duartema@gmail.com</td>\n",
       "        <td>4232536</td>\n",
       "    </tr>\n",
       "    <tr>\n",
       "        <td>9</td>\n",
       "        <td>Anamariana</td>\n",
       "        <td>Solis</td>\n",
       "        <td>asolis@yahoo.com</td>\n",
       "        <td>None</td>\n",
       "    </tr>\n",
       "    <tr>\n",
       "        <td>10</td>\n",
       "        <td>Jorge</td>\n",
       "        <td>Cabezudo</td>\n",
       "        <td></td>\n",
       "        <td></td>\n",
       "    </tr>\n",
       "</table>"
      ],
      "text/plain": [
       "[(6, 'Maria Elena', None, 'mariaquevedo@tumail.com', '4242212'),\n",
       " (7, 'Marian', 'Millones', 'MILLONES@hotmail.com', 'AB46343'),\n",
       " (8, 'Mariana', 'Duarte', 'duartema@gmail.com', '4232536'),\n",
       " (9, 'Anamariana', 'Solis', 'asolis@yahoo.com', None),\n",
       " (10, 'Jorge', 'Cabezudo', '', '')]"
      ]
     },
     "execution_count": 25,
     "metadata": {},
     "output_type": "execute_result"
    }
   ],
   "source": [
    "%%sql\n",
    "\n",
    "SELECT\n",
    "*\n",
    "from\n",
    "Clientes\n",
    "WHERE \n",
    "idCliente > 5"
   ]
  },
  {
   "cell_type": "markdown",
   "metadata": {},
   "source": [
    "También se pueden hacer uso de operadores como ``LIKE``"
   ]
  },
  {
   "cell_type": "code",
   "execution_count": 29,
   "metadata": {},
   "outputs": [
    {
     "name": "stdout",
     "output_type": "stream",
     "text": [
      " * sqlite:///banco_tugente.db\n",
      "Done.\n"
     ]
    },
    {
     "data": {
      "text/html": [
       "<table>\n",
       "    <tr>\n",
       "        <th>idCliente</th>\n",
       "        <th>nombreCliente</th>\n",
       "        <th>apellidoCliente</th>\n",
       "    </tr>\n",
       "    <tr>\n",
       "        <td>2</td>\n",
       "        <td>Jose Maria</td>\n",
       "        <td>Rodriguez Quevedo</td>\n",
       "    </tr>\n",
       "    <tr>\n",
       "        <td>3</td>\n",
       "        <td>Maria</td>\n",
       "        <td>Quispe</td>\n",
       "    </tr>\n",
       "    <tr>\n",
       "        <td>6</td>\n",
       "        <td>Maria Elena</td>\n",
       "        <td>None</td>\n",
       "    </tr>\n",
       "    <tr>\n",
       "        <td>7</td>\n",
       "        <td>Marian</td>\n",
       "        <td>Millones</td>\n",
       "    </tr>\n",
       "    <tr>\n",
       "        <td>8</td>\n",
       "        <td>Mariana</td>\n",
       "        <td>Duarte</td>\n",
       "    </tr>\n",
       "    <tr>\n",
       "        <td>9</td>\n",
       "        <td>Anamariana</td>\n",
       "        <td>Solis</td>\n",
       "    </tr>\n",
       "</table>"
      ],
      "text/plain": [
       "[(2, 'Jose Maria', 'Rodriguez Quevedo'),\n",
       " (3, 'Maria', 'Quispe'),\n",
       " (6, 'Maria Elena', None),\n",
       " (7, 'Marian', 'Millones'),\n",
       " (8, 'Mariana', 'Duarte'),\n",
       " (9, 'Anamariana', 'Solis')]"
      ]
     },
     "execution_count": 29,
     "metadata": {},
     "output_type": "execute_result"
    }
   ],
   "source": [
    "%%sql\n",
    "\n",
    "SELECT\n",
    "idCliente,\n",
    "nombreCliente,\n",
    "apellidoCliente\n",
    "from\n",
    "Clientes\n",
    "WHERE\n",
    "nombreCliente LIKE '%Maria%'"
   ]
  },
  {
   "cell_type": "markdown",
   "metadata": {},
   "source": [
    "Hay varias operadores que uno puede utilizar en el `WHERE`. Destacamos los siguientes:\n",
    "\n",
    "- `=, != (o <>)`\n",
    "- `<, >, <=, >=`\n",
    "- `AND, OR, NOT`\n",
    "- `BETWEEN`, cuyo formato es: \n",
    "```SQL\n",
    "<atributo> BETWEEN <valor1> AND <valor2>\n",
    "```\n",
    "Esta condición es cierta si `<atributo>` está entre los valores `<valor1>` y `<valor2>` (inclusive). \n",
    "- `IN`, cuyo formato es:\n",
    "```SQL\n",
    "<atributo> IN (<valor1>, <valor2>,...)\n",
    "```\n",
    "Esta condición es cierta si `<atributo>` está en la lista de valores \n",
    "`(<valor1>, <valor2>,...)`\n",
    "- `NOT IN`, cuyo formato es:\n",
    "```SQL\n",
    "<atributo> NOT IN (<valor1>, <valor2>,...)\n",
    "```\n",
    "Esta condición es cierta si `<atributo>` no está en la lista de valores \n",
    "`(<valor1>, <valor2>,...)`\n",
    "- `LIKE`, cuyo formato es:\n",
    "```SQL\n",
    "<atributo_string> LIKE <expresion>\n",
    "```\n",
    "Esta condición es cierta si `<atributo_string>`, el cual es del tipo `string`, tiene la forma de `<expresion>`. En `<expresion>` uno puede poner letras y keywords como `%` el cual indica que hay una palabra de cualquier largo o `_` el cual indica que hay una letra. Por ejemplo `<nombre> LIKE '%Juan%'` es cierto si el string `<nombre>` contiene la palabra 'Juan'. La condición `<nombre> LIKE 'Juan%'` sería cierto si `<nombre>` empieza con la palabra 'Juan'. La condición `<sigla> LIKE 'CL_'` indica que `<sigla>` tiene 3 letras y las dos primeras deben ser `CL` (la última puede ser cualquiera). \n",
    "\n",
    "Los keywords `IN` y `NOT IN` nos servirán también para hacer subsconsultas como veremos más adelante. "
   ]
  },
  {
   "cell_type": "markdown",
   "metadata": {},
   "source": [
    "#### JOINS\n",
    "\n",
    "Los JOINS sirven para cruzar datos y generar consultas de diversas tablas. Para entender un poco más acerca de cómo usar los JOINS, haremos uso de la siguiente imagen:\n",
    "\n",
    "![](https://user-images.githubusercontent.com/83436724/169961746-b028dc26-ca4e-4da0-b037-c2785bb9d2c4.jpg)"
   ]
  },
  {
   "cell_type": "markdown",
   "metadata": {},
   "source": [
    "La forma básica de un JOIN es:\n",
    "\n",
    "```SQL\n",
    "SELECT \n",
    "<atributos>\n",
    "FROM \n",
    "<tabla izquierda> \n",
    "<tipo> JOIN \n",
    "<tabla izquierda> \n",
    "ON <llave tabla izquierda> = <llave tabla derecha>\n",
    "```"
   ]
  },
  {
   "cell_type": "markdown",
   "metadata": {},
   "source": [
    "A continuación, generaremos una consulta que nos traiga los productos y los clientes"
   ]
  },
  {
   "cell_type": "code",
   "execution_count": 38,
   "metadata": {},
   "outputs": [
    {
     "name": "stdout",
     "output_type": "stream",
     "text": [
      "   sqlite:///banco.db\n",
      " * sqlite:///banco_tugente.db\n",
      "Done.\n"
     ]
    },
    {
     "data": {
      "text/html": [
       "<table>\n",
       "    <tr>\n",
       "        <th>idProducto</th>\n",
       "        <th>nombreProducto</th>\n",
       "        <th>tipoProducto</th>\n",
       "        <th>montoActual</th>\n",
       "        <th>nombreCliente</th>\n",
       "        <th>apellidoCliente</th>\n",
       "    </tr>\n",
       "    <tr>\n",
       "        <td>1</td>\n",
       "        <td>Cuenta Millonaria</td>\n",
       "        <td>Ahorros</td>\n",
       "        <td>10000.23</td>\n",
       "        <td>Jose Maria</td>\n",
       "        <td>Rodriguez Quevedo</td>\n",
       "    </tr>\n",
       "    <tr>\n",
       "        <td>2</td>\n",
       "        <td>Prestamo Fácil</td>\n",
       "        <td>Prestamo</td>\n",
       "        <td>50000.0</td>\n",
       "        <td>Jose Maria</td>\n",
       "        <td>Rodriguez Quevedo</td>\n",
       "    </tr>\n",
       "    <tr>\n",
       "        <td>3</td>\n",
       "        <td>Cuenta Jubilacion</td>\n",
       "        <td>Ahorros</td>\n",
       "        <td>40004.53</td>\n",
       "        <td>Marian</td>\n",
       "        <td>Millones</td>\n",
       "    </tr>\n",
       "    <tr>\n",
       "        <td>4</td>\n",
       "        <td>Cuenta Millonaria</td>\n",
       "        <td>Ahorros</td>\n",
       "        <td>23252392.9</td>\n",
       "        <td>Jorge</td>\n",
       "        <td>Cabezudo</td>\n",
       "    </tr>\n",
       "    <tr>\n",
       "        <td>5</td>\n",
       "        <td>Cuenta Digital</td>\n",
       "        <td>Ahorros</td>\n",
       "        <td>7000023.43</td>\n",
       "        <td>Anamariana</td>\n",
       "        <td>Solis</td>\n",
       "    </tr>\n",
       "</table>"
      ],
      "text/plain": [
       "[(1, 'Cuenta Millonaria', 'Ahorros', 10000.23, 'Jose Maria', 'Rodriguez Quevedo'),\n",
       " (2, 'Prestamo Fácil', 'Prestamo', 50000.0, 'Jose Maria', 'Rodriguez Quevedo'),\n",
       " (3, 'Cuenta Jubilacion', 'Ahorros', 40004.53, 'Marian', 'Millones'),\n",
       " (4, 'Cuenta Millonaria', 'Ahorros', 23252392.9, 'Jorge', 'Cabezudo'),\n",
       " (5, 'Cuenta Digital', 'Ahorros', 7000023.43, 'Anamariana', 'Solis')]"
      ]
     },
     "execution_count": 38,
     "metadata": {},
     "output_type": "execute_result"
    }
   ],
   "source": [
    "%%sql\n",
    "\n",
    "SELECT\n",
    "idProducto,\n",
    "nombreProducto,\n",
    "tipoProducto,\n",
    "montoActual,\n",
    "nombreCliente,\n",
    "apellidoCliente\n",
    "FROM\n",
    "Productos A\n",
    "INNER JOIN\n",
    "Clientes B\n",
    "ON A.idCliente = B.idCliente"
   ]
  },
  {
   "cell_type": "code",
   "execution_count": 42,
   "metadata": {},
   "outputs": [
    {
     "name": "stdout",
     "output_type": "stream",
     "text": [
      "   sqlite:///banco.db\n",
      " * sqlite:///banco_tugente.db\n",
      "Done.\n"
     ]
    },
    {
     "data": {
      "text/html": [
       "<table>\n",
       "    <tr>\n",
       "        <th>idProducto</th>\n",
       "        <th>nombreProducto</th>\n",
       "        <th>tipoProducto</th>\n",
       "        <th>montoActual</th>\n",
       "        <th>nombreCliente</th>\n",
       "        <th>apellidoCliente</th>\n",
       "    </tr>\n",
       "    <tr>\n",
       "        <td>None</td>\n",
       "        <td>None</td>\n",
       "        <td>None</td>\n",
       "        <td>None</td>\n",
       "        <td>Carlos Adrian</td>\n",
       "        <td>Alarcon Delgado</td>\n",
       "    </tr>\n",
       "    <tr>\n",
       "        <td>1</td>\n",
       "        <td>Cuenta Millonaria</td>\n",
       "        <td>Ahorros</td>\n",
       "        <td>10000.23</td>\n",
       "        <td>Jose Maria</td>\n",
       "        <td>Rodriguez Quevedo</td>\n",
       "    </tr>\n",
       "    <tr>\n",
       "        <td>2</td>\n",
       "        <td>Prestamo Fácil</td>\n",
       "        <td>Prestamo</td>\n",
       "        <td>50000.0</td>\n",
       "        <td>Jose Maria</td>\n",
       "        <td>Rodriguez Quevedo</td>\n",
       "    </tr>\n",
       "    <tr>\n",
       "        <td>None</td>\n",
       "        <td>None</td>\n",
       "        <td>None</td>\n",
       "        <td>None</td>\n",
       "        <td>Maria</td>\n",
       "        <td>Quispe</td>\n",
       "    </tr>\n",
       "    <tr>\n",
       "        <td>None</td>\n",
       "        <td>None</td>\n",
       "        <td>None</td>\n",
       "        <td>None</td>\n",
       "        <td>Eliana</td>\n",
       "        <td>Arevalo</td>\n",
       "    </tr>\n",
       "    <tr>\n",
       "        <td>None</td>\n",
       "        <td>None</td>\n",
       "        <td>None</td>\n",
       "        <td>None</td>\n",
       "        <td>Patrick</td>\n",
       "        <td>None</td>\n",
       "    </tr>\n",
       "    <tr>\n",
       "        <td>None</td>\n",
       "        <td>None</td>\n",
       "        <td>None</td>\n",
       "        <td>None</td>\n",
       "        <td>Maria Elena</td>\n",
       "        <td>None</td>\n",
       "    </tr>\n",
       "    <tr>\n",
       "        <td>3</td>\n",
       "        <td>Cuenta Jubilacion</td>\n",
       "        <td>Ahorros</td>\n",
       "        <td>40004.53</td>\n",
       "        <td>Marian</td>\n",
       "        <td>Millones</td>\n",
       "    </tr>\n",
       "    <tr>\n",
       "        <td>None</td>\n",
       "        <td>None</td>\n",
       "        <td>None</td>\n",
       "        <td>None</td>\n",
       "        <td>Mariana</td>\n",
       "        <td>Duarte</td>\n",
       "    </tr>\n",
       "    <tr>\n",
       "        <td>5</td>\n",
       "        <td>Cuenta Digital</td>\n",
       "        <td>Ahorros</td>\n",
       "        <td>7000023.43</td>\n",
       "        <td>Anamariana</td>\n",
       "        <td>Solis</td>\n",
       "    </tr>\n",
       "    <tr>\n",
       "        <td>4</td>\n",
       "        <td>Cuenta Millonaria</td>\n",
       "        <td>Ahorros</td>\n",
       "        <td>23252392.9</td>\n",
       "        <td>Jorge</td>\n",
       "        <td>Cabezudo</td>\n",
       "    </tr>\n",
       "</table>"
      ],
      "text/plain": [
       "[(None, None, None, None, 'Carlos Adrian', 'Alarcon Delgado'),\n",
       " (1, 'Cuenta Millonaria', 'Ahorros', 10000.23, 'Jose Maria', 'Rodriguez Quevedo'),\n",
       " (2, 'Prestamo Fácil', 'Prestamo', 50000.0, 'Jose Maria', 'Rodriguez Quevedo'),\n",
       " (None, None, None, None, 'Maria', 'Quispe'),\n",
       " (None, None, None, None, 'Eliana', 'Arevalo'),\n",
       " (None, None, None, None, 'Patrick', None),\n",
       " (None, None, None, None, 'Maria Elena', None),\n",
       " (3, 'Cuenta Jubilacion', 'Ahorros', 40004.53, 'Marian', 'Millones'),\n",
       " (None, None, None, None, 'Mariana', 'Duarte'),\n",
       " (5, 'Cuenta Digital', 'Ahorros', 7000023.43, 'Anamariana', 'Solis'),\n",
       " (4, 'Cuenta Millonaria', 'Ahorros', 23252392.9, 'Jorge', 'Cabezudo')]"
      ]
     },
     "execution_count": 42,
     "metadata": {},
     "output_type": "execute_result"
    }
   ],
   "source": [
    "%%sql\n",
    "\n",
    "SELECT\n",
    "idProducto,\n",
    "nombreProducto,\n",
    "tipoProducto,\n",
    "montoActual,\n",
    "nombreCliente,\n",
    "apellidoCliente\n",
    "FROM\n",
    "Clientes A\n",
    "LEFT JOIN\n",
    "Productos B\n",
    "ON A.idCliente = B.idCliente"
   ]
  },
  {
   "cell_type": "markdown",
   "metadata": {},
   "source": [
    "#### Agregaciones\n"
   ]
  },
  {
   "cell_type": "markdown",
   "metadata": {},
   "source": [
    "Las agregaciones son útiles para poder resumir datos haciendo uso de algunos cálculos escalares. Las principales funciones de agregación son:\n",
    "\n",
    "* ``COUNT`` : Recuendo de filas, no considera nulos\n",
    "* ``AVG`` : Calcula el promedio\n",
    "* ``SUM`` : Calcula la suma\n",
    "* ``MAX`` : Calcula el máximo valor\n",
    "* ``MIN`` : Calcula el mínimo valor\n",
    "\n",
    "La estructura básica de las agregaciones es:\n",
    "\n",
    "```SQL\n",
    "SELECT \n",
    "<atributos>,\n",
    "<funcion agregacion>\n",
    "FROM \n",
    "<tablas> \n",
    "GROUP BY \n",
    "<atributos>\n",
    "```"
   ]
  },
  {
   "cell_type": "code",
   "execution_count": 46,
   "metadata": {},
   "outputs": [
    {
     "name": "stdout",
     "output_type": "stream",
     "text": [
      "   sqlite:///banco.db\n",
      " * sqlite:///banco_tugente.db\n",
      "Done.\n"
     ]
    },
    {
     "data": {
      "text/html": [
       "<table>\n",
       "    <tr>\n",
       "        <th>montoMaximo</th>\n",
       "        <th>montoMinimo</th>\n",
       "        <th>montoPromedio</th>\n",
       "    </tr>\n",
       "    <tr>\n",
       "        <td>23252392.9</td>\n",
       "        <td>10000.23</td>\n",
       "        <td>6070484.218</td>\n",
       "    </tr>\n",
       "</table>"
      ],
      "text/plain": [
       "[(23252392.9, 10000.23, 6070484.218)]"
      ]
     },
     "execution_count": 46,
     "metadata": {},
     "output_type": "execute_result"
    }
   ],
   "source": [
    "%%sql\n",
    "\n",
    "SELECT\n",
    "MAX(montoActual) as montoMaximo,\n",
    "MIN(montoActual) as montoMinimo,\n",
    "AVG(montoActual) as montoPromedio\n",
    "FROM\n",
    "Productos"
   ]
  },
  {
   "cell_type": "code",
   "execution_count": 48,
   "metadata": {},
   "outputs": [
    {
     "name": "stdout",
     "output_type": "stream",
     "text": [
      "   sqlite:///banco.db\n",
      " * sqlite:///banco_tugente.db\n",
      "Done.\n"
     ]
    },
    {
     "data": {
      "text/html": [
       "<table>\n",
       "    <tr>\n",
       "        <th>tipoProducto</th>\n",
       "        <th>montoPromedio</th>\n",
       "        <th>montoMaximo</th>\n",
       "    </tr>\n",
       "    <tr>\n",
       "        <td>Ahorros</td>\n",
       "        <td>7575605.2725</td>\n",
       "        <td>23252392.9</td>\n",
       "    </tr>\n",
       "    <tr>\n",
       "        <td>Prestamo</td>\n",
       "        <td>50000.0</td>\n",
       "        <td>50000.0</td>\n",
       "    </tr>\n",
       "</table>"
      ],
      "text/plain": [
       "[('Ahorros', 7575605.2725, 23252392.9), ('Prestamo', 50000.0, 50000.0)]"
      ]
     },
     "execution_count": 48,
     "metadata": {},
     "output_type": "execute_result"
    }
   ],
   "source": [
    "%%sql\n",
    "SELECT\n",
    "tipoProducto,\n",
    "AVG(montoActual) as montoPromedio,\n",
    "MAX(montoActual) as montoMaximo\n",
    "FROM\n",
    "Productos\n",
    "GROUP BY \n",
    "tipoProducto"
   ]
  }
 ],
 "metadata": {
  "interpreter": {
   "hash": "a1c127b98b004ffb10bdf623089e5daada6124a81f5a9b9e6b62024169afff23"
  },
  "kernelspec": {
   "display_name": "Python 3.10.4 64-bit (system)",
   "language": "python",
   "name": "python3"
  },
  "language_info": {
   "codemirror_mode": {
    "name": "ipython",
    "version": 3
   },
   "file_extension": ".py",
   "mimetype": "text/x-python",
   "name": "python",
   "nbconvert_exporter": "python",
   "pygments_lexer": "ipython3",
   "version": "3.10.4"
  },
  "orig_nbformat": 4
 },
 "nbformat": 4,
 "nbformat_minor": 2
}
